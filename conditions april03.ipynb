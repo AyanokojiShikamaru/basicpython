{
 "cells": [
  {
   "cell_type": "markdown",
   "id": "4a722183",
   "metadata": {},
   "source": [
    "# conditions"
   ]
  },
  {
   "cell_type": "raw",
   "id": "fdc0121f",
   "metadata": {},
   "source": [
    "conditions has 3 modules if,elif and else"
   ]
  },
  {
   "cell_type": "code",
   "execution_count": null,
   "id": "8d9ede49",
   "metadata": {},
   "outputs": [],
   "source": [
    "if condition\n",
    "  statement\n",
    "elif condition1:\n",
    "    statement1\n",
    "elif condition2:\n",
    "    statement2\n",
    "elif condition3:\n",
    "    statement3\n",
    "else\n",
    "     end of statement"
   ]
  },
  {
   "cell_type": "code",
   "execution_count": null,
   "id": "fa8ffe8c",
   "metadata": {},
   "outputs": [],
   "source": [
    "a=10\n",
    "b=20\n",
    "c=a+b\n",
    "if a>b:\n",
    "    print(c)\n",
    "elif a<b:\n",
    "    print(b)\n",
    "elif a!=b:\n",
    "    print(c)\n",
    "else:\n",
    "     print(\"enter the value\")"
   ]
  },
  {
   "cell_type": "code",
   "execution_count": null,
   "id": "301a7d3b",
   "metadata": {},
   "outputs": [],
   "source": [
    "a=10\n",
    "if a==10:\n",
    "    print(a)"
   ]
  },
  {
   "cell_type": "code",
   "execution_count": null,
   "id": "e9843ced",
   "metadata": {},
   "outputs": [],
   "source": [
    "a=10\n",
    "b=20\n",
    "if a>b:\n",
    "    print(\"a is grt then b\")\n",
    "# here is space is known as indentation\n",
    "elif b>a:\n",
    "    print(\"b is grt then a\")"
   ]
  },
  {
   "cell_type": "code",
   "execution_count": null,
   "id": "854e0515",
   "metadata": {},
   "outputs": [],
   "source": [
    "number=10\n",
    "a=f'{number:b}'\n",
    "print(a)"
   ]
  },
  {
   "cell_type": "code",
   "execution_count": null,
   "id": "085716c2",
   "metadata": {},
   "outputs": [],
   "source": [
    "number2=30\n",
    "b=f'{number2:0b}'\n",
    "print(b)"
   ]
  },
  {
   "cell_type": "code",
   "execution_count": null,
   "id": "fb39bb7a",
   "metadata": {},
   "outputs": [],
   "source": [
    "number3=30\n",
    "c=f'{number2:010b}'\n",
    "print(c)"
   ]
  },
  {
   "cell_type": "markdown",
   "id": "a26785a1",
   "metadata": {},
   "source": [
    "# and or operation"
   ]
  },
  {
   "cell_type": "code",
   "execution_count": null,
   "id": "5ff0636d",
   "metadata": {},
   "outputs": [],
   "source": [
    "a=10\n",
    "b=20\n",
    "if a==10 or a==20:\n",
    "    print(a)"
   ]
  },
  {
   "cell_type": "code",
   "execution_count": null,
   "id": "71d4f8bf",
   "metadata": {},
   "outputs": [],
   "source": [
    "if a==10 and a==20:\n",
    "    print(a)"
   ]
  },
  {
   "cell_type": "markdown",
   "id": "f919dcd4",
   "metadata": {},
   "source": [
    "# calculator"
   ]
  },
  {
   "cell_type": "code",
   "execution_count": 1,
   "id": "b33556c3",
   "metadata": {},
   "outputs": [
    {
     "name": "stdout",
     "output_type": "stream",
     "text": [
      "enter a value6\n",
      "enter b value7\n",
      "Enter a operations,('+','-','%','/','//',)+\n",
      "here we are preforming addition operation 13\n"
     ]
    }
   ],
   "source": [
    "a=int(input(\"enter a value\"))\n",
    "b=int(input(\"enter b value\"))\n",
    "operations =input(\"Enter a operations,('+','-','%','/','//',)\")\n",
    "if operations ==\"+\":\n",
    "    print(\"here we are preforming addition operation\",a+b)\n",
    "elif operations ==\"-\":\n",
    "    print(\"here we are performing substraction operation\",a-b)\n",
    "elif operations ==\"*\":\n",
    "    print(\"here we are performiong multiplication operation\",a*b)\n",
    "elif operation ==\"/\":\n",
    "    print(\"here we are performing division operation\",a/b)\n",
    "elif operations ==\"//\":\n",
    "    print(\"here we are performing division oeration with out decimal point\",a//b)\n",
    "elif operations ==\"%\":\n",
    "    print(\"here we are performing division oeration with out decimal point\",a%b)\n",
    "else:\n",
    "    print(\"please enter the valid operation\")"
   ]
  },
  {
   "cell_type": "code",
   "execution_count": 5,
   "id": "b870c14b",
   "metadata": {},
   "outputs": [
    {
     "data": {
      "text/plain": [
       "'show multiplation sign'"
      ]
     },
     "execution_count": 5,
     "metadata": {},
     "output_type": "execute_result"
    }
   ],
   "source": []
  },
  {
   "cell_type": "code",
   "execution_count": null,
   "id": "97c1d1d2",
   "metadata": {},
   "outputs": [],
   "source": []
  }
 ],
 "metadata": {
  "kernelspec": {
   "display_name": "Python 3 (ipykernel)",
   "language": "python",
   "name": "python3"
  },
  "language_info": {
   "codemirror_mode": {
    "name": "ipython",
    "version": 3
   },
   "file_extension": ".py",
   "mimetype": "text/x-python",
   "name": "python",
   "nbconvert_exporter": "python",
   "pygments_lexer": "ipython3",
   "version": "3.10.9"
  }
 },
 "nbformat": 4,
 "nbformat_minor": 5
}
